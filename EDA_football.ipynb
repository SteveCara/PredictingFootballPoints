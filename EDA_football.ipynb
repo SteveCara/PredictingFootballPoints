{
 "cells": [
  {
   "cell_type": "code",
   "execution_count": 2,
   "metadata": {},
   "outputs": [],
   "source": [
    "import pandas as pd\n",
    "import matplotlib.pyplot as plt\n",
    "import seaborn as sns"
   ]
  },
  {
   "cell_type": "code",
   "execution_count": 3,
   "metadata": {},
   "outputs": [],
   "source": [
    "df = pd.read_csv('football_data.csv')"
   ]
  },
  {
   "cell_type": "code",
   "execution_count": 4,
   "metadata": {},
   "outputs": [
    {
     "data": {
      "text/html": [
       "<div>\n",
       "<style scoped>\n",
       "    .dataframe tbody tr th:only-of-type {\n",
       "        vertical-align: middle;\n",
       "    }\n",
       "\n",
       "    .dataframe tbody tr th {\n",
       "        vertical-align: top;\n",
       "    }\n",
       "\n",
       "    .dataframe thead th {\n",
       "        text-align: right;\n",
       "    }\n",
       "</style>\n",
       "<table border=\"1\" class=\"dataframe\">\n",
       "  <thead>\n",
       "    <tr style=\"text-align: right;\">\n",
       "      <th></th>\n",
       "      <th>Unnamed: 0</th>\n",
       "      <th>Unnamed: 1</th>\n",
       "      <th>position</th>\n",
       "      <th>team</th>\n",
       "      <th>matches</th>\n",
       "      <th>wins</th>\n",
       "      <th>draws</th>\n",
       "      <th>loses</th>\n",
       "      <th>scored</th>\n",
       "      <th>missed</th>\n",
       "      <th>...</th>\n",
       "      <th>xGA</th>\n",
       "      <th>xGA_diff</th>\n",
       "      <th>npxGA</th>\n",
       "      <th>npxGD</th>\n",
       "      <th>ppda_coef</th>\n",
       "      <th>oppda_coef</th>\n",
       "      <th>deep</th>\n",
       "      <th>deep_allowed</th>\n",
       "      <th>xpts</th>\n",
       "      <th>xpts_diff</th>\n",
       "    </tr>\n",
       "  </thead>\n",
       "  <tbody>\n",
       "    <tr>\n",
       "      <th>0</th>\n",
       "      <td>Bundesliga</td>\n",
       "      <td>2015</td>\n",
       "      <td>1</td>\n",
       "      <td>Bayern Munich</td>\n",
       "      <td>34</td>\n",
       "      <td>28</td>\n",
       "      <td>4</td>\n",
       "      <td>2</td>\n",
       "      <td>80</td>\n",
       "      <td>17</td>\n",
       "      <td>...</td>\n",
       "      <td>20.794377</td>\n",
       "      <td>3.794377</td>\n",
       "      <td>19.278818</td>\n",
       "      <td>50.942669</td>\n",
       "      <td>6.563205</td>\n",
       "      <td>23.119249</td>\n",
       "      <td>353</td>\n",
       "      <td>103</td>\n",
       "      <td>77.9685</td>\n",
       "      <td>-10.0315</td>\n",
       "    </tr>\n",
       "    <tr>\n",
       "      <th>1</th>\n",
       "      <td>Bundesliga</td>\n",
       "      <td>2015</td>\n",
       "      <td>2</td>\n",
       "      <td>Borussia Dortmund</td>\n",
       "      <td>34</td>\n",
       "      <td>24</td>\n",
       "      <td>6</td>\n",
       "      <td>4</td>\n",
       "      <td>82</td>\n",
       "      <td>34</td>\n",
       "      <td>...</td>\n",
       "      <td>29.177493</td>\n",
       "      <td>-4.822507</td>\n",
       "      <td>26.146554</td>\n",
       "      <td>52.697884</td>\n",
       "      <td>7.698882</td>\n",
       "      <td>18.386425</td>\n",
       "      <td>387</td>\n",
       "      <td>126</td>\n",
       "      <td>76.5776</td>\n",
       "      <td>-1.4224</td>\n",
       "    </tr>\n",
       "    <tr>\n",
       "      <th>2</th>\n",
       "      <td>Bundesliga</td>\n",
       "      <td>2015</td>\n",
       "      <td>3</td>\n",
       "      <td>Bayer Leverkusen</td>\n",
       "      <td>34</td>\n",
       "      <td>18</td>\n",
       "      <td>6</td>\n",
       "      <td>10</td>\n",
       "      <td>56</td>\n",
       "      <td>40</td>\n",
       "      <td>...</td>\n",
       "      <td>41.235821</td>\n",
       "      <td>1.235821</td>\n",
       "      <td>35.931561</td>\n",
       "      <td>14.703136</td>\n",
       "      <td>6.165958</td>\n",
       "      <td>8.521662</td>\n",
       "      <td>243</td>\n",
       "      <td>165</td>\n",
       "      <td>56.6645</td>\n",
       "      <td>-3.3355</td>\n",
       "    </tr>\n",
       "    <tr>\n",
       "      <th>3</th>\n",
       "      <td>Bundesliga</td>\n",
       "      <td>2015</td>\n",
       "      <td>4</td>\n",
       "      <td>Borussia M.Gladbach</td>\n",
       "      <td>34</td>\n",
       "      <td>17</td>\n",
       "      <td>4</td>\n",
       "      <td>13</td>\n",
       "      <td>67</td>\n",
       "      <td>50</td>\n",
       "      <td>...</td>\n",
       "      <td>49.069221</td>\n",
       "      <td>-0.930779</td>\n",
       "      <td>43.007082</td>\n",
       "      <td>7.630760</td>\n",
       "      <td>8.310616</td>\n",
       "      <td>11.972256</td>\n",
       "      <td>243</td>\n",
       "      <td>186</td>\n",
       "      <td>50.0596</td>\n",
       "      <td>-4.9404</td>\n",
       "    </tr>\n",
       "    <tr>\n",
       "      <th>4</th>\n",
       "      <td>Bundesliga</td>\n",
       "      <td>2015</td>\n",
       "      <td>5</td>\n",
       "      <td>Schalke 04</td>\n",
       "      <td>34</td>\n",
       "      <td>15</td>\n",
       "      <td>7</td>\n",
       "      <td>12</td>\n",
       "      <td>51</td>\n",
       "      <td>49</td>\n",
       "      <td>...</td>\n",
       "      <td>47.883320</td>\n",
       "      <td>-1.116680</td>\n",
       "      <td>45.609996</td>\n",
       "      <td>-2.269053</td>\n",
       "      <td>9.777487</td>\n",
       "      <td>10.325190</td>\n",
       "      <td>228</td>\n",
       "      <td>197</td>\n",
       "      <td>45.6242</td>\n",
       "      <td>-6.3758</td>\n",
       "    </tr>\n",
       "  </tbody>\n",
       "</table>\n",
       "<p>5 rows × 24 columns</p>\n",
       "</div>"
      ],
      "text/plain": [
       "   Unnamed: 0  Unnamed: 1  position                 team  matches  wins  \\\n",
       "0  Bundesliga        2015         1        Bayern Munich       34    28   \n",
       "1  Bundesliga        2015         2    Borussia Dortmund       34    24   \n",
       "2  Bundesliga        2015         3     Bayer Leverkusen       34    18   \n",
       "3  Bundesliga        2015         4  Borussia M.Gladbach       34    17   \n",
       "4  Bundesliga        2015         5           Schalke 04       34    15   \n",
       "\n",
       "   draws  loses  scored  missed  ...        xGA  xGA_diff      npxGA  \\\n",
       "0      4      2      80      17  ...  20.794377  3.794377  19.278818   \n",
       "1      6      4      82      34  ...  29.177493 -4.822507  26.146554   \n",
       "2      6     10      56      40  ...  41.235821  1.235821  35.931561   \n",
       "3      4     13      67      50  ...  49.069221 -0.930779  43.007082   \n",
       "4      7     12      51      49  ...  47.883320 -1.116680  45.609996   \n",
       "\n",
       "       npxGD  ppda_coef  oppda_coef  deep  deep_allowed     xpts  xpts_diff  \n",
       "0  50.942669   6.563205   23.119249   353           103  77.9685   -10.0315  \n",
       "1  52.697884   7.698882   18.386425   387           126  76.5776    -1.4224  \n",
       "2  14.703136   6.165958    8.521662   243           165  56.6645    -3.3355  \n",
       "3   7.630760   8.310616   11.972256   243           186  50.0596    -4.9404  \n",
       "4  -2.269053   9.777487   10.325190   228           197  45.6242    -6.3758  \n",
       "\n",
       "[5 rows x 24 columns]"
      ]
     },
     "execution_count": 4,
     "metadata": {},
     "output_type": "execute_result"
    }
   ],
   "source": [
    "df.head()"
   ]
  },
  {
   "cell_type": "code",
   "execution_count": 5,
   "metadata": {},
   "outputs": [],
   "source": [
    "# Rename unnamed columns\n",
    "df = df.rename(columns = {'Unnamed: 0': 'League', 'Unnamed: 1':'SeasonYear', 'missed':'against'})"
   ]
  },
  {
   "cell_type": "code",
   "execution_count": 6,
   "metadata": {},
   "outputs": [
    {
     "data": {
      "text/html": [
       "<div>\n",
       "<style scoped>\n",
       "    .dataframe tbody tr th:only-of-type {\n",
       "        vertical-align: middle;\n",
       "    }\n",
       "\n",
       "    .dataframe tbody tr th {\n",
       "        vertical-align: top;\n",
       "    }\n",
       "\n",
       "    .dataframe thead th {\n",
       "        text-align: right;\n",
       "    }\n",
       "</style>\n",
       "<table border=\"1\" class=\"dataframe\">\n",
       "  <thead>\n",
       "    <tr style=\"text-align: right;\">\n",
       "      <th></th>\n",
       "      <th>League</th>\n",
       "      <th>SeasonYear</th>\n",
       "      <th>position</th>\n",
       "      <th>team</th>\n",
       "      <th>matches</th>\n",
       "      <th>wins</th>\n",
       "      <th>draws</th>\n",
       "      <th>loses</th>\n",
       "      <th>scored</th>\n",
       "      <th>against</th>\n",
       "      <th>...</th>\n",
       "      <th>xGA</th>\n",
       "      <th>xGA_diff</th>\n",
       "      <th>npxGA</th>\n",
       "      <th>npxGD</th>\n",
       "      <th>ppda_coef</th>\n",
       "      <th>oppda_coef</th>\n",
       "      <th>deep</th>\n",
       "      <th>deep_allowed</th>\n",
       "      <th>xpts</th>\n",
       "      <th>xpts_diff</th>\n",
       "    </tr>\n",
       "  </thead>\n",
       "  <tbody>\n",
       "    <tr>\n",
       "      <th>0</th>\n",
       "      <td>Bundesliga</td>\n",
       "      <td>2015</td>\n",
       "      <td>1</td>\n",
       "      <td>Bayern Munich</td>\n",
       "      <td>34</td>\n",
       "      <td>28</td>\n",
       "      <td>4</td>\n",
       "      <td>2</td>\n",
       "      <td>80</td>\n",
       "      <td>17</td>\n",
       "      <td>...</td>\n",
       "      <td>20.794377</td>\n",
       "      <td>3.794377</td>\n",
       "      <td>19.278818</td>\n",
       "      <td>50.942669</td>\n",
       "      <td>6.563205</td>\n",
       "      <td>23.119249</td>\n",
       "      <td>353</td>\n",
       "      <td>103</td>\n",
       "      <td>77.9685</td>\n",
       "      <td>-10.0315</td>\n",
       "    </tr>\n",
       "    <tr>\n",
       "      <th>1</th>\n",
       "      <td>Bundesliga</td>\n",
       "      <td>2015</td>\n",
       "      <td>2</td>\n",
       "      <td>Borussia Dortmund</td>\n",
       "      <td>34</td>\n",
       "      <td>24</td>\n",
       "      <td>6</td>\n",
       "      <td>4</td>\n",
       "      <td>82</td>\n",
       "      <td>34</td>\n",
       "      <td>...</td>\n",
       "      <td>29.177493</td>\n",
       "      <td>-4.822507</td>\n",
       "      <td>26.146554</td>\n",
       "      <td>52.697884</td>\n",
       "      <td>7.698882</td>\n",
       "      <td>18.386425</td>\n",
       "      <td>387</td>\n",
       "      <td>126</td>\n",
       "      <td>76.5776</td>\n",
       "      <td>-1.4224</td>\n",
       "    </tr>\n",
       "    <tr>\n",
       "      <th>2</th>\n",
       "      <td>Bundesliga</td>\n",
       "      <td>2015</td>\n",
       "      <td>3</td>\n",
       "      <td>Bayer Leverkusen</td>\n",
       "      <td>34</td>\n",
       "      <td>18</td>\n",
       "      <td>6</td>\n",
       "      <td>10</td>\n",
       "      <td>56</td>\n",
       "      <td>40</td>\n",
       "      <td>...</td>\n",
       "      <td>41.235821</td>\n",
       "      <td>1.235821</td>\n",
       "      <td>35.931561</td>\n",
       "      <td>14.703136</td>\n",
       "      <td>6.165958</td>\n",
       "      <td>8.521662</td>\n",
       "      <td>243</td>\n",
       "      <td>165</td>\n",
       "      <td>56.6645</td>\n",
       "      <td>-3.3355</td>\n",
       "    </tr>\n",
       "    <tr>\n",
       "      <th>3</th>\n",
       "      <td>Bundesliga</td>\n",
       "      <td>2015</td>\n",
       "      <td>4</td>\n",
       "      <td>Borussia M.Gladbach</td>\n",
       "      <td>34</td>\n",
       "      <td>17</td>\n",
       "      <td>4</td>\n",
       "      <td>13</td>\n",
       "      <td>67</td>\n",
       "      <td>50</td>\n",
       "      <td>...</td>\n",
       "      <td>49.069221</td>\n",
       "      <td>-0.930779</td>\n",
       "      <td>43.007082</td>\n",
       "      <td>7.630760</td>\n",
       "      <td>8.310616</td>\n",
       "      <td>11.972256</td>\n",
       "      <td>243</td>\n",
       "      <td>186</td>\n",
       "      <td>50.0596</td>\n",
       "      <td>-4.9404</td>\n",
       "    </tr>\n",
       "    <tr>\n",
       "      <th>4</th>\n",
       "      <td>Bundesliga</td>\n",
       "      <td>2015</td>\n",
       "      <td>5</td>\n",
       "      <td>Schalke 04</td>\n",
       "      <td>34</td>\n",
       "      <td>15</td>\n",
       "      <td>7</td>\n",
       "      <td>12</td>\n",
       "      <td>51</td>\n",
       "      <td>49</td>\n",
       "      <td>...</td>\n",
       "      <td>47.883320</td>\n",
       "      <td>-1.116680</td>\n",
       "      <td>45.609996</td>\n",
       "      <td>-2.269053</td>\n",
       "      <td>9.777487</td>\n",
       "      <td>10.325190</td>\n",
       "      <td>228</td>\n",
       "      <td>197</td>\n",
       "      <td>45.6242</td>\n",
       "      <td>-6.3758</td>\n",
       "    </tr>\n",
       "  </tbody>\n",
       "</table>\n",
       "<p>5 rows × 24 columns</p>\n",
       "</div>"
      ],
      "text/plain": [
       "       League  SeasonYear  position                 team  matches  wins  \\\n",
       "0  Bundesliga        2015         1        Bayern Munich       34    28   \n",
       "1  Bundesliga        2015         2    Borussia Dortmund       34    24   \n",
       "2  Bundesliga        2015         3     Bayer Leverkusen       34    18   \n",
       "3  Bundesliga        2015         4  Borussia M.Gladbach       34    17   \n",
       "4  Bundesliga        2015         5           Schalke 04       34    15   \n",
       "\n",
       "   draws  loses  scored  against  ...        xGA  xGA_diff      npxGA  \\\n",
       "0      4      2      80       17  ...  20.794377  3.794377  19.278818   \n",
       "1      6      4      82       34  ...  29.177493 -4.822507  26.146554   \n",
       "2      6     10      56       40  ...  41.235821  1.235821  35.931561   \n",
       "3      4     13      67       50  ...  49.069221 -0.930779  43.007082   \n",
       "4      7     12      51       49  ...  47.883320 -1.116680  45.609996   \n",
       "\n",
       "       npxGD  ppda_coef  oppda_coef  deep  deep_allowed     xpts  xpts_diff  \n",
       "0  50.942669   6.563205   23.119249   353           103  77.9685   -10.0315  \n",
       "1  52.697884   7.698882   18.386425   387           126  76.5776    -1.4224  \n",
       "2  14.703136   6.165958    8.521662   243           165  56.6645    -3.3355  \n",
       "3   7.630760   8.310616   11.972256   243           186  50.0596    -4.9404  \n",
       "4  -2.269053   9.777487   10.325190   228           197  45.6242    -6.3758  \n",
       "\n",
       "[5 rows x 24 columns]"
      ]
     },
     "execution_count": 6,
     "metadata": {},
     "output_type": "execute_result"
    }
   ],
   "source": [
    "df.head()"
   ]
  },
  {
   "cell_type": "code",
   "execution_count": 7,
   "metadata": {},
   "outputs": [
    {
     "name": "stdout",
     "output_type": "stream",
     "text": [
      "    League  SeasonYear  position       team  matches  wins  draws  loses  \\\n",
      "97     EPL        2015         8  Liverpool       38    16     12     10   \n",
      "113    EPL        2016         4  Liverpool       38    22     10      6   \n",
      "133    EPL        2017         4  Liverpool       38    21     12      5   \n",
      "151    EPL        2018         2  Liverpool       38    30      7      1   \n",
      "170    EPL        2019         1  Liverpool       38    32      3      3   \n",
      "\n",
      "     scored  against  ...        xGA   xGA_diff      npxGA      npxGD  \\\n",
      "97       63       50  ...  37.882860 -12.117140  35.527447  17.315877   \n",
      "113      78       42  ...  37.652328  -4.347671  33.846486  26.696722   \n",
      "133      84       38  ...  35.751621  -2.248379  31.184615  43.998704   \n",
      "151      89       22  ...  29.145105   7.145105  28.383936  45.745424   \n",
      "170      85       33  ...  39.572898   6.572898  38.811728  32.575792   \n",
      "\n",
      "     ppda_coef  oppda_coef  deep  deep_allowed     xpts  xpts_diff  \n",
      "97    7.915811   11.826111   373           158  63.2906     3.2906  \n",
      "113   7.601824   16.302048   446           134  69.8308    -6.1692  \n",
      "133  10.410388   23.561771   436           148  79.3848     4.3848  \n",
      "151  10.959871   22.161376   431           152  83.4541   -13.5459  \n",
      "170   8.607605   24.738212   429           145  74.2784   -24.7216  \n",
      "\n",
      "[5 rows x 24 columns]\n"
     ]
    }
   ],
   "source": [
    "# Extract LFC data for later analysis, because I am a Liverpool (LFC) fan\n",
    "\n",
    "lfc_data = df[df['team']=='Liverpool']\n",
    "print(lfc_data.head())"
   ]
  },
  {
   "cell_type": "code",
   "execution_count": 8,
   "metadata": {},
   "outputs": [
    {
     "data": {
      "text/plain": [
       "<matplotlib.axes._subplots.AxesSubplot at 0x1fba27685c0>"
      ]
     },
     "execution_count": 8,
     "metadata": {},
     "output_type": "execute_result"
    },
    {
     "data": {
      "image/png": "[encoded data removed]",
      "text/plain": [
       "<Figure size 432x288 with 1 Axes>"
      ]
     },
     "metadata": {
      "needs_background": "light"
     },
     "output_type": "display_data"
    }
   ],
   "source": [
    "df.wins.hist()"
   ]
  },
  {
   "cell_type": "code",
   "execution_count": 9,
   "metadata": {},
   "outputs": [
    {
     "data": {
      "text/plain": [
       "<matplotlib.axes._subplots.AxesSubplot at 0x1fba4844eb8>"
      ]
     },
     "execution_count": 9,
     "metadata": {},
     "output_type": "execute_result"
    },
    {
     "data": {
      "image/png": "[encoded data removed]",
      "text/plain": [
       "<Figure size 432x288 with 1 Axes>"
      ]
     },
     "metadata": {
      "needs_background": "light"
     },
     "output_type": "display_data"
    }
   ],
   "source": [
    "df.xG.hist()"
   ]
  },
  {
   "cell_type": "code",
   "execution_count": 10,
   "metadata": {},
   "outputs": [
    {
     "data": {
      "text/plain": [
       "<matplotlib.axes._subplots.AxesSubplot at 0x1fba48c80f0>"
      ]
     },
     "execution_count": 10,
     "metadata": {},
     "output_type": "execute_result"
    },
    {
     "data": {
      "image/png": "[encoded data removed]",
      "text/plain": [
       "<Figure size 432x288 with 1 Axes>"
      ]
     },
     "metadata": {
      "needs_background": "light"
     },
     "output_type": "display_data"
    }
   ],
   "source": [
    "df.boxplot(column = ['scored','against','xG', 'xGA', 'pts'])"
   ]
  },
  {
   "cell_type": "code",
   "execution_count": 11,
   "metadata": {},
   "outputs": [
    {
     "data": {
      "text/html": [
       "<div>\n",
       "<style scoped>\n",
       "    .dataframe tbody tr th:only-of-type {\n",
       "        vertical-align: middle;\n",
       "    }\n",
       "\n",
       "    .dataframe tbody tr th {\n",
       "        vertical-align: top;\n",
       "    }\n",
       "\n",
       "    .dataframe thead th {\n",
       "        text-align: right;\n",
       "    }\n",
       "</style>\n",
       "<table border=\"1\" class=\"dataframe\">\n",
       "  <thead>\n",
       "    <tr style=\"text-align: right;\">\n",
       "      <th></th>\n",
       "      <th>scored</th>\n",
       "      <th>against</th>\n",
       "      <th>xG</th>\n",
       "      <th>xGA</th>\n",
       "      <th>pts</th>\n",
       "      <th>xpts</th>\n",
       "    </tr>\n",
       "  </thead>\n",
       "  <tbody>\n",
       "    <tr>\n",
       "      <th>scored</th>\n",
       "      <td>1.000000</td>\n",
       "      <td>-0.297565</td>\n",
       "      <td>0.924384</td>\n",
       "      <td>-0.277076</td>\n",
       "      <td>0.879430</td>\n",
       "      <td>0.872360</td>\n",
       "    </tr>\n",
       "    <tr>\n",
       "      <th>against</th>\n",
       "      <td>-0.297565</td>\n",
       "      <td>1.000000</td>\n",
       "      <td>-0.247973</td>\n",
       "      <td>0.881634</td>\n",
       "      <td>-0.592153</td>\n",
       "      <td>-0.495476</td>\n",
       "    </tr>\n",
       "    <tr>\n",
       "      <th>xG</th>\n",
       "      <td>0.924384</td>\n",
       "      <td>-0.247973</td>\n",
       "      <td>1.000000</td>\n",
       "      <td>-0.213602</td>\n",
       "      <td>0.821760</td>\n",
       "      <td>0.910853</td>\n",
       "    </tr>\n",
       "    <tr>\n",
       "      <th>xGA</th>\n",
       "      <td>-0.277076</td>\n",
       "      <td>0.881634</td>\n",
       "      <td>-0.213602</td>\n",
       "      <td>1.000000</td>\n",
       "      <td>-0.501956</td>\n",
       "      <td>-0.508365</td>\n",
       "    </tr>\n",
       "    <tr>\n",
       "      <th>pts</th>\n",
       "      <td>0.879430</td>\n",
       "      <td>-0.592153</td>\n",
       "      <td>0.821760</td>\n",
       "      <td>-0.501956</td>\n",
       "      <td>1.000000</td>\n",
       "      <td>0.913000</td>\n",
       "    </tr>\n",
       "    <tr>\n",
       "      <th>xpts</th>\n",
       "      <td>0.872360</td>\n",
       "      <td>-0.495476</td>\n",
       "      <td>0.910853</td>\n",
       "      <td>-0.508365</td>\n",
       "      <td>0.913000</td>\n",
       "      <td>1.000000</td>\n",
       "    </tr>\n",
       "  </tbody>\n",
       "</table>\n",
       "</div>"
      ],
      "text/plain": [
       "           scored   against        xG       xGA       pts      xpts\n",
       "scored   1.000000 -0.297565  0.924384 -0.277076  0.879430  0.872360\n",
       "against -0.297565  1.000000 -0.247973  0.881634 -0.592153 -0.495476\n",
       "xG       0.924384 -0.247973  1.000000 -0.213602  0.821760  0.910853\n",
       "xGA     -0.277076  0.881634 -0.213602  1.000000 -0.501956 -0.508365\n",
       "pts      0.879430 -0.592153  0.821760 -0.501956  1.000000  0.913000\n",
       "xpts     0.872360 -0.495476  0.910853 -0.508365  0.913000  1.000000"
      ]
     },
     "execution_count": 11,
     "metadata": {},
     "output_type": "execute_result"
    }
   ],
   "source": [
    "df[['scored','against','xG','xGA','pts', 'xpts']].corr()"
   ]
  },
  {
   "cell_type": "code",
   "execution_count": 12,
   "metadata": {},
   "outputs": [
    {
     "data": {
      "text/plain": [
       "<matplotlib.axes._subplots.AxesSubplot at 0x1fba49d7400>"
      ]
     },
     "execution_count": 12,
     "metadata": {},
     "output_type": "execute_result"
    },
    {
     "data": {
      "image/png": "[encoded data removed]",
      "text/plain": [
       "<Figure size 432x288 with 2 Axes>"
      ]
     },
     "metadata": {
      "needs_background": "light"
     },
     "output_type": "display_data"
    }
   ],
   "source": [
    "sns.heatmap(df[['pts','scored','against','xG','xGA', 'ppda_coef','oppda_coef','deep', 'deep_allowed']].corr(), center=0, square=True, linewidths=.5, annot=True, cmap = \"YlGnBu\")"
   ]
  },
  {
   "cell_type": "code",
   "execution_count": 13,
   "metadata": {},
   "outputs": [
    {
     "data": {
      "text/plain": [
       "Index(['League', 'SeasonYear', 'position', 'team', 'matches', 'wins', 'draws',\n",
       "       'loses', 'scored', 'against', 'pts', 'xG', 'xG_diff', 'npxG', 'xGA',\n",
       "       'xGA_diff', 'npxGA', 'npxGD', 'ppda_coef', 'oppda_coef', 'deep',\n",
       "       'deep_allowed', 'xpts', 'xpts_diff'],\n",
       "      dtype='object')"
      ]
     },
     "execution_count": 13,
     "metadata": {},
     "output_type": "execute_result"
    }
   ],
   "source": [
    "df.columns"
   ]
  },
  {
   "cell_type": "code",
   "execution_count": 14,
   "metadata": {},
   "outputs": [],
   "source": [
    "df_cat = df[['wins', 'loses', 'position']]"
   ]
  },
  {
   "cell_type": "code",
   "execution_count": 15,
   "metadata": {},
   "outputs": [
    {
     "name": "stdout",
     "output_type": "stream",
     "text": [
      "graph for wins: total = 30\n"
     ]
    },
    {
     "data": {
      "image/png": "[encoded data removed]",
      "text/plain": [
       "<Figure size 432x288 with 1 Axes>"
      ]
     },
     "metadata": {
      "needs_background": "light"
     },
     "output_type": "display_data"
    },
    {
     "name": "stdout",
     "output_type": "stream",
     "text": [
      "graph for loses: total = 29\n"
     ]
    },
    {
     "data": {
      "image/png": "[encoded data removed]",
      "text/plain": [
       "<Figure size 432x288 with 1 Axes>"
      ]
     },
     "metadata": {
      "needs_background": "light"
     },
     "output_type": "display_data"
    },
    {
     "name": "stdout",
     "output_type": "stream",
     "text": [
      "graph for position: total = 20\n"
     ]
    },
    {
     "data": {
      "image/png": "[encoded data removed]",
      "text/plain": [
       "<Figure size 432x288 with 1 Axes>"
      ]
     },
     "metadata": {
      "needs_background": "light"
     },
     "output_type": "display_data"
    }
   ],
   "source": [
    "for i in df_cat.columns:\n",
    "    cat_num = df_cat[i].value_counts()\n",
    "    print('graph for %s: total = %d' % (i, len(cat_num)))\n",
    "    chart = sns.barplot(x=cat_num.index, y=cat_num, palette = 'rocket')\n",
    "    chart.set_xticklabels(chart.get_xticklabels(),rotation=90)\n",
    "    plt.show()"
   ]
  },
  {
   "cell_type": "code",
   "execution_count": 16,
   "metadata": {},
   "outputs": [],
   "source": [
    "pd.options.display.max_rows\n",
    "pd.set_option('display.max_rows', 15)"
   ]
  },
  {
   "cell_type": "code",
   "execution_count": 17,
   "metadata": {},
   "outputs": [
    {
     "data": {
      "text/html": [
       "<div>\n",
       "<style scoped>\n",
       "    .dataframe tbody tr th:only-of-type {\n",
       "        vertical-align: middle;\n",
       "    }\n",
       "\n",
       "    .dataframe tbody tr th {\n",
       "        vertical-align: top;\n",
       "    }\n",
       "\n",
       "    .dataframe thead th {\n",
       "        text-align: right;\n",
       "    }\n",
       "</style>\n",
       "<table border=\"1\" class=\"dataframe\">\n",
       "  <thead>\n",
       "    <tr style=\"text-align: right;\">\n",
       "      <th></th>\n",
       "      <th></th>\n",
       "      <th></th>\n",
       "      <th>position</th>\n",
       "    </tr>\n",
       "    <tr>\n",
       "      <th>pts</th>\n",
       "      <th>team</th>\n",
       "      <th>SeasonYear</th>\n",
       "      <th></th>\n",
       "    </tr>\n",
       "  </thead>\n",
       "  <tbody>\n",
       "    <tr>\n",
       "      <th>100</th>\n",
       "      <th>Manchester City</th>\n",
       "      <th>2017</th>\n",
       "      <td>1</td>\n",
       "    </tr>\n",
       "    <tr>\n",
       "      <th>99</th>\n",
       "      <th>Liverpool</th>\n",
       "      <th>2019</th>\n",
       "      <td>1</td>\n",
       "    </tr>\n",
       "    <tr>\n",
       "      <th>98</th>\n",
       "      <th>Manchester City</th>\n",
       "      <th>2018</th>\n",
       "      <td>1</td>\n",
       "    </tr>\n",
       "    <tr>\n",
       "      <th>97</th>\n",
       "      <th>Liverpool</th>\n",
       "      <th>2018</th>\n",
       "      <td>2</td>\n",
       "    </tr>\n",
       "    <tr>\n",
       "      <th>96</th>\n",
       "      <th>Paris Saint Germain</th>\n",
       "      <th>2015</th>\n",
       "      <td>1</td>\n",
       "    </tr>\n",
       "    <tr>\n",
       "      <th rowspan=\"2\" valign=\"top\">95</th>\n",
       "      <th>Monaco</th>\n",
       "      <th>2016</th>\n",
       "      <td>1</td>\n",
       "    </tr>\n",
       "    <tr>\n",
       "      <th>Juventus</th>\n",
       "      <th>2017</th>\n",
       "      <td>1</td>\n",
       "    </tr>\n",
       "    <tr>\n",
       "      <th>...</th>\n",
       "      <th>...</th>\n",
       "      <th>...</th>\n",
       "      <td>...</td>\n",
       "    </tr>\n",
       "    <tr>\n",
       "      <th>18</th>\n",
       "      <th>Troyes</th>\n",
       "      <th>2015</th>\n",
       "      <td>20</td>\n",
       "    </tr>\n",
       "    <tr>\n",
       "      <th>17</th>\n",
       "      <th>Aston Villa</th>\n",
       "      <th>2015</th>\n",
       "      <td>20</td>\n",
       "    </tr>\n",
       "    <tr>\n",
       "      <th>16</th>\n",
       "      <th>Huddersfield</th>\n",
       "      <th>2018</th>\n",
       "      <td>20</td>\n",
       "    </tr>\n",
       "    <tr>\n",
       "      <th>15</th>\n",
       "      <th>Pescara</th>\n",
       "      <th>2016</th>\n",
       "      <td>20</td>\n",
       "    </tr>\n",
       "    <tr>\n",
       "      <th>14</th>\n",
       "      <th>Tom Tomsk</th>\n",
       "      <th>2016</th>\n",
       "      <td>16</td>\n",
       "    </tr>\n",
       "    <tr>\n",
       "      <th rowspan=\"2\" valign=\"top\">13</th>\n",
       "      <th>Toulouse</th>\n",
       "      <th>2019</th>\n",
       "      <td>20</td>\n",
       "    </tr>\n",
       "    <tr>\n",
       "      <th>SKA-Khabarovsk</th>\n",
       "      <th>2017</th>\n",
       "      <td>16</td>\n",
       "    </tr>\n",
       "  </tbody>\n",
       "</table>\n",
       "<p>570 rows × 1 columns</p>\n",
       "</div>"
      ],
      "text/plain": [
       "                                    position\n",
       "pts team                SeasonYear          \n",
       "100 Manchester City     2017               1\n",
       "99  Liverpool           2019               1\n",
       "98  Manchester City     2018               1\n",
       "97  Liverpool           2018               2\n",
       "96  Paris Saint Germain 2015               1\n",
       "95  Monaco              2016               1\n",
       "    Juventus            2017               1\n",
       "...                                      ...\n",
       "18  Troyes              2015              20\n",
       "17  Aston Villa         2015              20\n",
       "16  Huddersfield        2018              20\n",
       "15  Pescara             2016              20\n",
       "14  Tom Tomsk           2016              16\n",
       "13  Toulouse            2019              20\n",
       "    SKA-Khabarovsk      2017              16\n",
       "\n",
       "[570 rows x 1 columns]"
      ]
     },
     "execution_count": 17,
     "metadata": {},
     "output_type": "execute_result"
    }
   ],
   "source": [
    "pd.pivot_table(df, index = ['pts', 'team', 'SeasonYear'], values = 'position').sort_values('pts',ascending=False)"
   ]
  },
  {
   "cell_type": "code",
   "execution_count": null,
   "metadata": {},
   "outputs": [],
   "source": []
  },
  {
   "cell_type": "code",
   "execution_count": null,
   "metadata": {},
   "outputs": [],
   "source": []
  },
  {
   "cell_type": "code",
   "execution_count": null,
   "metadata": {},
   "outputs": [],
   "source": []
  }
 ],
 "metadata": {
  "kernelspec": {
   "display_name": "Python 3",
   "language": "python",
   "name": "python3"
  },
  "language_info": {
   "codemirror_mode": {
    "name": "ipython",
    "version": 3
   },
   "file_extension": ".py",
   "mimetype": "text/x-python",
   "name": "python",
   "nbconvert_exporter": "python",
   "pygments_lexer": "ipython3",
   "version": "3.7.1"
  }
 },
 "nbformat": 4,
 "nbformat_minor": 2
}
